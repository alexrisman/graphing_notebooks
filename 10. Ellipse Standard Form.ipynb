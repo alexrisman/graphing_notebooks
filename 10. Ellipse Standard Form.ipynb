{
 "cells": [
  {
   "cell_type": "code",
   "execution_count": 7,
   "metadata": {
    "collapsed": false
   },
   "outputs": [],
   "source": [
    "%matplotlib inline\n",
    "\n",
    "# load necessary libraries\n",
    "import matplotlib.pyplot as plt\n",
    "import numpy as np\n",
    "from ipywidgets import *\n",
    "from collections import OrderedDict"
   ]
  },
  {
   "cell_type": "code",
   "execution_count": 8,
   "metadata": {
    "collapsed": false
   },
   "outputs": [
    {
     "data": {
      "image/png": "[encoded data removed]",
      "text/plain": [
       "<matplotlib.figure.Figure at 0x103d5e910>"
      ]
     },
     "metadata": {},
     "output_type": "display_data"
    },
    {
     "data": {
      "text/plain": [
       "<function __main__.draw_plot>"
      ]
     },
     "execution_count": 8,
     "metadata": {},
     "output_type": "execute_result"
    }
   ],
   "source": [
    "def draw_plot(a, b, h, k):\n",
    "    axis_lim = 5\n",
    "    x = np.linspace(-axis_lim, axis_lim, 400)\n",
    "    y = np.linspace(-axis_lim, axis_lim, 400)\n",
    "    x, y = np.meshgrid(x, y)\n",
    "    plt.contour(x, y,((y-k)**2/b**2 +(x-h)**2/a**2), [1])\n",
    "    plt.plot(h, k, 'go', label='center')\n",
    "    if a > b:\n",
    "        c = (a**2-b**2)**.5\n",
    "        plt.plot(k+c, h, 'ko', label='focus')\n",
    "        plt.plot(k-c, h, 'ko', label='focus')\n",
    "    else:\n",
    "        c = (b**2-a**2)**.5\n",
    "        plt.plot(k, h+c, 'ko', label='focus')\n",
    "        plt.plot(k, h-c, 'ko', label='focus')\n",
    "    plt.axis('equal')\n",
    "    plt.xlim(-axis_lim, axis_lim)\n",
    "    plt.ylim(-axis_lim, axis_lim)\n",
    "    plt.show()\n",
    "    \n",
    "interact(draw_plot, a=(.1, 1.5, .3), b=(.1, 2.5, .3), h=(-2.,2.), k=(-2.,2.))"
   ]
  }
 ],
 "metadata": {
  "anaconda-cloud": {},
  "kernelspec": {
   "display_name": "Python (machine_learning)",
   "language": "python",
   "name": "machine_learning"
  },
  "language_info": {
   "codemirror_mode": {
    "name": "ipython",
    "version": 2
   },
   "file_extension": ".py",
   "mimetype": "text/x-python",
   "name": "python",
   "nbconvert_exporter": "python",
   "pygments_lexer": "ipython2",
   "version": "2.7.11"
  }
 },
 "nbformat": 4,
 "nbformat_minor": 0
}
