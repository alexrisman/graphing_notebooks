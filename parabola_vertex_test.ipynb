{
 "cells": [
  {
   "cell_type": "code",
   "execution_count": 1,
   "metadata": {},
   "outputs": [],
   "source": [
    "%matplotlib inline\n",
    "\n",
    "# load necessary libraries\n",
    "import matplotlib.pyplot as plt\n",
    "import numpy as np\n",
    "from ipywidgets import *\n",
    "from collections import OrderedDict"
   ]
  },
  {
   "cell_type": "code",
   "execution_count": 2,
   "metadata": {},
   "outputs": [
    {
     "data": {
      "application/vnd.jupyter.widget-view+json": {
       "model_id": "83b0a78955a14a959971e0eac290cba7",
       "version_major": 2,
       "version_minor": 0
      },
      "text/plain": [
       "interactive(children=(FloatSlider(value=0.3999999999999999, description='a', max=1.5, min=-0.5, step=0.3), Flo…"
      ]
     },
     "metadata": {},
     "output_type": "display_data"
    },
    {
     "data": {
      "text/plain": [
       "<function __main__.draw_plot(a, h, k)>"
      ]
     },
     "execution_count": 2,
     "metadata": {},
     "output_type": "execute_result"
    }
   ],
   "source": [
    "def f(x, a, h, k):\n",
    "    return a*(x-h)**2+k\n",
    "\n",
    "def draw_plot(a, h, k):\n",
    "    x_lim = 5\n",
    "    x = np.linspace(-x_lim, x_lim, 400)\n",
    "    y = list(map(lambda elem : f(elem, a, h, k), x))\n",
    "    plt.plot(x, y)\n",
    "    plt.plot(h, k, 'ro', label='vertex')\n",
    "    plt.plot(h, k+1./(4*a), 'ko', label='focus')\n",
    "    plt.legend(numpoints=1)\n",
    "    plt.xlim(-x_lim, x_lim)\n",
    "    plt.show()\n",
    "    \n",
    "interact(draw_plot, a=(-.5, 1.5, .3), h=(-1.,1.), k=(-1.,1.))"
   ]
  }
 ],
 "metadata": {
  "anaconda-cloud": {},
  "kernelspec": {
   "display_name": "Python 3",
   "language": "python",
   "name": "python3"
  },
  "language_info": {
   "codemirror_mode": {
    "name": "ipython",
    "version": 3
   },
   "file_extension": ".py",
   "mimetype": "text/x-python",
   "name": "python",
   "nbconvert_exporter": "python",
   "pygments_lexer": "ipython3",
   "version": "3.6.5"
  },
  "widgets": {
   "application/vnd.jupyter.widget-state+json": {
    "state": {
     "53f759ffb7284b47aeaf8856801ed877": {
      "model_module": "@jupyter-widgets/controls",
      "model_module_version": "1.2.0",
      "model_name": "SliderStyleModel",
      "state": {
       "description_width": ""
      }
     },
     "6527bb73ab0647ba9da1efe26ad86fde": {
      "model_module": "@jupyter-widgets/controls",
      "model_module_version": "1.2.0",
      "model_name": "FloatSliderModel",
      "state": {
       "description": "h",
       "layout": "IPY_MODEL_fe71741e53384690b84deea995fbeae3",
       "max": 1,
       "min": -1,
       "step": 0.1,
       "style": "IPY_MODEL_be8bb055f7a548e29c1d90b47b9f0040"
      }
     },
     "6f5dc47d9c51481c82bc64576d8b5b93": {
      "model_module": "@jupyter-widgets/controls",
      "model_module_version": "1.2.0",
      "model_name": "FloatSliderModel",
      "state": {
       "description": "k",
       "layout": "IPY_MODEL_73bf7107cc9c4e808ce59d1d1924e252",
       "max": 1,
       "min": -1,
       "step": 0.1,
       "style": "IPY_MODEL_53f759ffb7284b47aeaf8856801ed877"
      }
     },
     "72fd2d85747245c8907b9c733da59a1d": {
      "model_module": "@jupyter-widgets/base",
      "model_module_version": "1.0.0",
      "model_name": "LayoutModel",
      "state": {}
     },
     "73bf7107cc9c4e808ce59d1d1924e252": {
      "model_module": "@jupyter-widgets/base",
      "model_module_version": "1.0.0",
      "model_name": "LayoutModel",
      "state": {}
     },
     "83b0a78955a14a959971e0eac290cba7": {
      "model_module": "@jupyter-widgets/controls",
      "model_module_version": "1.2.0",
      "model_name": "VBoxModel",
      "state": {
       "_dom_classes": [
        "widget-interact"
       ],
       "children": [
        "IPY_MODEL_a7ec69a35abb4c3c9fd2fa49b747ca6d",
        "IPY_MODEL_6527bb73ab0647ba9da1efe26ad86fde",
        "IPY_MODEL_6f5dc47d9c51481c82bc64576d8b5b93",
        "IPY_MODEL_cca5b195a1a3493bbf98d9e87cdc3029"
       ],
       "layout": "IPY_MODEL_e4e8d2d41b114a7fa9175c160115f966"
      }
     },
     "8d9187a295ea4e70b5c7359b26dcd651": {
      "model_module": "@jupyter-widgets/controls",
      "model_module_version": "1.2.0",
      "model_name": "SliderStyleModel",
      "state": {
       "description_width": ""
      }
     },
     "8edde2eb88784997a6662f14fe3c2def": {
      "model_module": "@jupyter-widgets/base",
      "model_module_version": "1.0.0",
      "model_name": "LayoutModel",
      "state": {}
     },
     "a7ec69a35abb4c3c9fd2fa49b747ca6d": {
      "model_module": "@jupyter-widgets/controls",
      "model_module_version": "1.2.0",
      "model_name": "FloatSliderModel",
      "state": {
       "description": "a",
       "layout": "IPY_MODEL_8edde2eb88784997a6662f14fe3c2def",
       "max": 1.5,
       "min": -0.5,
       "step": 0.3,
       "style": "IPY_MODEL_8d9187a295ea4e70b5c7359b26dcd651",
       "value": -0.2
      }
     },
     "be8bb055f7a548e29c1d90b47b9f0040": {
      "model_module": "@jupyter-widgets/controls",
      "model_module_version": "1.2.0",
      "model_name": "SliderStyleModel",
      "state": {
       "description_width": ""
      }
     },
     "cca5b195a1a3493bbf98d9e87cdc3029": {
      "model_module": "@jupyter-widgets/output",
      "model_module_version": "1.0.0",
      "model_name": "OutputModel",
      "state": {
       "layout": "IPY_MODEL_72fd2d85747245c8907b9c733da59a1d",
       "outputs": [
        {
         "data": {
          "image/png": "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\n",
          "text/plain": "<matplotlib.figure.Figure at 0x7ff2b660c358>"
         },
         "metadata": {},
         "output_type": "display_data"
        }
       ]
      }
     },
     "e4e8d2d41b114a7fa9175c160115f966": {
      "model_module": "@jupyter-widgets/base",
      "model_module_version": "1.0.0",
      "model_name": "LayoutModel",
      "state": {}
     },
     "fe71741e53384690b84deea995fbeae3": {
      "model_module": "@jupyter-widgets/base",
      "model_module_version": "1.0.0",
      "model_name": "LayoutModel",
      "state": {}
     }
    },
    "version_major": 2,
    "version_minor": 0
   }
  }
 },
 "nbformat": 4,
 "nbformat_minor": 1
}
