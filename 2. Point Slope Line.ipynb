{
 "cells": [
  {
   "cell_type": "code",
   "execution_count": 6,
   "metadata": {
    "collapsed": false
   },
   "outputs": [],
   "source": [
    "%matplotlib inline\n",
    "\n",
    "# load necessary libraries\n",
    "import matplotlib.pyplot as plt\n",
    "import numpy as np\n",
    "from ipywidgets import *\n",
    "from collections import OrderedDict"
   ]
  },
  {
   "cell_type": "code",
   "execution_count": null,
   "metadata": {
    "collapsed": false
   },
   "outputs": [],
   "source": [
    "def f(x, m, x1, y1):\n",
    "    return m*(x-x1)+y1\n",
    "\n",
    "def draw_plot(m, x1, y1):\n",
    "    x_lim = 5\n",
    "    x = list(np.linspace(-x_lim, x_lim, 400))\n",
    "    y = list(map(lambda elem : f(elem, m, x1, y1), x))\n",
    "    plt.plot(x, y)\n",
    "    plt.xlim(-x_lim, x_lim)\n",
    "    plt.show()\n",
    "    \n",
    "interact(draw_plot, m=(1.), x1=(1.), y1=(1.))"
   ]
  }
 ],
 "metadata": {
  "anaconda-cloud": {},
  "kernelspec": {
   "display_name": "Python (machine_learning)",
   "language": "python",
   "name": "machine_learning"
  },
  "language_info": {
   "codemirror_mode": {
    "name": "ipython",
    "version": 2
   },
   "file_extension": ".py",
   "mimetype": "text/x-python",
   "name": "python",
   "nbconvert_exporter": "python",
   "pygments_lexer": "ipython2",
   "version": "2.7.11"
  }
 },
 "nbformat": 4,
 "nbformat_minor": 0
}
