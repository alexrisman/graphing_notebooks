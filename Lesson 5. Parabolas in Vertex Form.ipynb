{
 "cells": [
  {
   "cell_type": "markdown",
   "metadata": {},
   "source": [
    "# Lesson 5: Parabolas in Vertex Form\n",
    "The vertex form of a parabola is expressed as:\n",
    "<center>*y = a(x - h)<sup>2</sup> + k*, where (h,k) is the vertex</center>\n",
    "![](https://s3.amazonaws.com/armath-notebook-resources/images/parabola_vertex.png)\n",
    "\n",
    "- If a is positive then the parabola opens upwards like a regular \"U\".\n",
    "- If a is negative, then the graph opens downwards like an **upside down** \"U\".\n",
    "- If |a| < 1, the graph of the parabola widens. This just means that the \"U\" shape of parabola stretches out sideways. \n",
    "- If |a| > 1, the graph of the graph becomes more narrow (The effect is the opposite of |a| < 1)."
   ]
  },
  {
   "cell_type": "code",
   "execution_count": 3,
   "metadata": {
    "collapsed": false
   },
   "outputs": [
    {
     "data": {
      "image/png": "[encoded data removed]",
      "text/plain": [
       "<matplotlib.figure.Figure at 0x103d60350>"
      ]
     },
     "metadata": {},
     "output_type": "display_data"
    },
    {
     "data": {
      "text/plain": [
       "<function __main__.draw_plot>"
      ]
     },
     "execution_count": 3,
     "metadata": {},
     "output_type": "execute_result"
    }
   ],
   "source": [
    "%matplotlib inline\n",
    "\n",
    "# load necessary libraries\n",
    "import matplotlib.pyplot as plt\n",
    "import numpy as np\n",
    "from ipywidgets import *\n",
    "from collections import OrderedDict\n",
    "\n",
    "def f(x, a, h, k):\n",
    "    return a*(x-h)**2+k\n",
    "\n",
    "def draw_plot(a, h, k):\n",
    "    x_lim = 5\n",
    "    x = np.linspace(-x_lim, x_lim, 400)\n",
    "    y = list(map(lambda elem : f(elem, a, h, k), x))\n",
    "    plt.plot(x, y)\n",
    "    plt.plot(h, k, 'ro', label='vertex')\n",
    "    plt.plot(h, k+1./(4*a), 'ko', label='focus')\n",
    "    plt.legend(numpoints=1)\n",
    "    plt.grid(axis='y', color='r')\n",
    "    plt.grid(axis='x', color='g')\n",
    "    plt.xlim(-x_lim, x_lim)\n",
    "    plt.show()\n",
    "    \n",
    "interact(draw_plot, a=(-.5, 1.5, .3), h=(-1.,1.), k=(-1.,1.))"
   ]
  }
 ],
 "metadata": {
  "anaconda-cloud": {},
  "kernelspec": {
   "display_name": "Python (machine_learning)",
   "language": "python",
   "name": "machine_learning"
  },
  "language_info": {
   "codemirror_mode": {
    "name": "ipython",
    "version": 2
   },
   "file_extension": ".py",
   "mimetype": "text/x-python",
   "name": "python",
   "nbconvert_exporter": "python",
   "pygments_lexer": "ipython2",
   "version": "2.7.11"
  }
 },
 "nbformat": 4,
 "nbformat_minor": 0
}
