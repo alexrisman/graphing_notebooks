{
 "cells": [
  {
   "cell_type": "code",
   "execution_count": 4,
   "metadata": {
    "collapsed": false
   },
   "outputs": [],
   "source": [
    "%matplotlib inline\n",
    "\n",
    "# load necessary libraries\n",
    "import matplotlib.pyplot as plt\n",
    "import numpy as np\n",
    "from ipywidgets import *\n",
    "from collections import OrderedDict"
   ]
  },
  {
   "cell_type": "code",
   "execution_count": 5,
   "metadata": {
    "collapsed": false
   },
   "outputs": [
    {
     "data": {
      "image/png": "[encoded data removed]",
      "text/plain": [
       "<matplotlib.figure.Figure at 0x103b7fcd0>"
      ]
     },
     "metadata": {},
     "output_type": "display_data"
    },
    {
     "data": {
      "text/plain": [
       "<function __main__.draw_plot>"
      ]
     },
     "execution_count": 5,
     "metadata": {},
     "output_type": "execute_result"
    }
   ],
   "source": [
    "def draw_plot(R, h, k):\n",
    "    axis_lim = 5\n",
    "    x = np.linspace(-axis_lim, axis_lim, 400)\n",
    "    y = np.linspace(-axis_lim, axis_lim, 400)\n",
    "    x, y = np.meshgrid(x, y)\n",
    "    plt.contour(x, y,((y-k)**2/R**2 +(x-h)**2/R**2), [1])\n",
    "    plt.plot(h, k, 'go', label='center')\n",
    "    plt.axis('equal')\n",
    "    plt.xlim(-axis_lim, axis_lim)\n",
    "    plt.ylim(-axis_lim, axis_lim)\n",
    "    plt.show()\n",
    "    \n",
    "interact(draw_plot, R=(.1, 2.5, .3),  h=(-2.,2.), k=(-2.,2.))"
   ]
  }
 ],
 "metadata": {
  "anaconda-cloud": {},
  "kernelspec": {
   "display_name": "Python (machine_learning)",
   "language": "python",
   "name": "machine_learning"
  },
  "language_info": {
   "codemirror_mode": {
    "name": "ipython",
    "version": 2
   },
   "file_extension": ".py",
   "mimetype": "text/x-python",
   "name": "python",
   "nbconvert_exporter": "python",
   "pygments_lexer": "ipython2",
   "version": "2.7.11"
  }
 },
 "nbformat": 4,
 "nbformat_minor": 0
}
