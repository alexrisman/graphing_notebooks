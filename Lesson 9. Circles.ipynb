{
 "cells": [
  {
   "cell_type": "markdown",
   "metadata": {
    "collapsed": false
   },
   "source": [
    "# Lesson 9: Circles\n",
    "**Introduction:** Circles are special ellipses that have a single constant radius around a center. A circle is a shape with all points the same distance from its center. A circle is named by its center. Thus, the circle below is called circle A since its center is at point A.  The distance across a circle through the center is called the diameter.  The radius of a circle is the distance from the center of a circle to any point on the circle.\n",
    "![](https://s3.amazonaws.com/armath-notebook-resources/images/circle_1.png)\n",
    "\n",
    "**Objective:**  Define circle and radius. Sketch a circle given its radius and center. Write an equation of a circle given its radius and center. Match a circle to its equation.\n",
    "\n",
    "**Application:**  Circles and their various properties, such as the radius, diameter, circumference and area, have applications in real life. If the radius of the circle is known, all the other parameters can be calculated. Important information can be determined for real life applications based on the parameters. For example, knowing the circumference of the planets helps us compare their relative sizes, and artificial satellites that are launched travel in orbits of certain circumference.  Pizza and cake sizes are determined by the diameter of the pan in which they are baked, and the distance travelled by a person sitting on a Ferris wheel can be determined by calculating the circumference of the wheel. Tires of different vehicles can have different radii. The circumference of a ring needs to match the circumference of the finger on which it is worn for a good fit.\n",
    "\n",
    "## Parts of the Circle and Its Equation\n",
    "![](https://s3.amazonaws.com/armath-notebook-resources/images/circle_2.png)\n",
    "<center>**Standard Form of a Circle**\n",
    "</center>\n",
    "<center>Center:  (h, k)</center>\n",
    "<center>Radius:  r</center>\n"
   ]
  },
  {
   "cell_type": "code",
   "execution_count": 2,
   "metadata": {
    "collapsed": false
   },
   "outputs": [
    {
     "data": {
      "image/png": "[encoded data removed]",
      "text/plain": [
       "<matplotlib.figure.Figure at 0x1084173d0>"
      ]
     },
     "metadata": {},
     "output_type": "display_data"
    },
    {
     "data": {
      "text/plain": [
       "<function __main__.draw_plot>"
      ]
     },
     "execution_count": 2,
     "metadata": {},
     "output_type": "execute_result"
    }
   ],
   "source": [
    "%matplotlib inline\n",
    "\n",
    "# load necessary libraries\n",
    "import matplotlib.pyplot as plt\n",
    "import numpy as np\n",
    "from ipywidgets import *\n",
    "from collections import OrderedDict\n",
    "\n",
    "def draw_plot(R, h, k):\n",
    "    axis_lim = 5\n",
    "    x = np.linspace(-axis_lim, axis_lim, 400)\n",
    "    y = np.linspace(-axis_lim, axis_lim, 400)\n",
    "    x, y = np.meshgrid(x, y)\n",
    "    plt.contour(x, y,((y-k)**2/R**2 +(x-h)**2/R**2), [1])\n",
    "    plt.plot(h, k, 'go', label='center')\n",
    "    plt.axis('equal')\n",
    "    plt.grid(axis='y', color='r')\n",
    "    plt.grid(axis='x', color='g')\n",
    "    plt.xlim(-axis_lim, axis_lim)\n",
    "    plt.ylim(-axis_lim, axis_lim)\n",
    "    plt.show()\n",
    "    \n",
    "interact(draw_plot, R=(.1, 2.5, .3),  h=(-2.,2.), k=(-2.,2.))"
   ]
  }
 ],
 "metadata": {
  "anaconda-cloud": {},
  "kernelspec": {
   "display_name": "Python (machine_learning)",
   "language": "python",
   "name": "machine_learning"
  },
  "language_info": {
   "codemirror_mode": {
    "name": "ipython",
    "version": 2
   },
   "file_extension": ".py",
   "mimetype": "text/x-python",
   "name": "python",
   "nbconvert_exporter": "python",
   "pygments_lexer": "ipython2",
   "version": "2.7.11"
  }
 },
 "nbformat": 4,
 "nbformat_minor": 0
}
