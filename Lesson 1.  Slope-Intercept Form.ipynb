{
 "cells": [
  {
   "cell_type": "markdown",
   "metadata": {},
   "source": [
    "# Lesson 1:  Slope-Intercept Form\n",
    "\n",
    "**Introduction:** How long will it take you to save for a new cell phone?  Or for a new gaming system?  How can you predict snowfall in hopes of a snow day for school?  These and other situations can be mathematically calculated to help plan for the outcomes.\n",
    "\n",
    "**Objectives:** Students will be able to write an equation of a line in either slope-intercept form or standard form, and apply the point-slope form when given a point on the graph and its slope.\n",
    "\n",
    "**Application of Lesson:** There are some basic understandings of what slope and the y-intercept mean as it applies to a real-life situation.  The slope is the constant rate of change, such as a monthly charge of a membership or the data rate of a cell phone plan. The y-intercept is the constant amount or starting point.  This could be the initial amount when saving for a new gaming system or a car.  It never changes.\n",
    "## Slope-Intercept Form\n",
    "In order to write an equation of a line in slope-intercept form, you need two parts:  the slope of the line and where it crosses the y-axis.\n",
    "\n",
    "![](https://s3.amazonaws.com/armath-notebook-resources/Picture1.png)"
   ]
  },
  {
   "cell_type": "code",
   "execution_count": 17,
   "metadata": {
    "collapsed": false
   },
   "outputs": [
    {
     "data": {
      "image/png": "[encoded data removed]",
      "text/plain": [
       "<matplotlib.figure.Figure at 0x105c6ff90>"
      ]
     },
     "metadata": {},
     "output_type": "display_data"
    },
    {
     "data": {
      "text/plain": [
       "<function __main__.draw_plot>"
      ]
     },
     "execution_count": 17,
     "metadata": {},
     "output_type": "execute_result"
    }
   ],
   "source": [
    "%matplotlib inline\n",
    "\n",
    "import matplotlib.pyplot as plt\n",
    "import numpy as np\n",
    "from ipywidgets import *\n",
    "from collections import OrderedDict\n",
    "\n",
    "\n",
    "def f(x, m, b):\n",
    "    return m*x+b\n",
    "\n",
    "def draw_plot(m, b):\n",
    "    x_lim = 5\n",
    "    x = list(np.linspace(-x_lim, x_lim, 400))\n",
    "    y = list((map(lambda elem : f(elem, m, b), x)))\n",
    "    plt.plot(x, y)\n",
    "    plt.grid(axis='y', color='r')\n",
    "    plt.grid(axis='x', color='g')\n",
    "    plt.xlim(-x_lim, x_lim)\n",
    "    plt.show()\n",
    "    \n",
    "interact(draw_plot, m=(1.), b=(1.))"
   ]
  }
 ],
 "metadata": {
  "anaconda-cloud": {},
  "kernelspec": {
   "display_name": "Python (machine_learning)",
   "language": "python",
   "name": "machine_learning"
  },
  "language_info": {
   "codemirror_mode": {
    "name": "ipython",
    "version": 2
   },
   "file_extension": ".py",
   "mimetype": "text/x-python",
   "name": "python",
   "nbconvert_exporter": "python",
   "pygments_lexer": "ipython2",
   "version": "2.7.11"
  }
 },
 "nbformat": 4,
 "nbformat_minor": 0
}
