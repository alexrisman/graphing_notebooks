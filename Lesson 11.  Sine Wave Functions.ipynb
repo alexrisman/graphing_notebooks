{
 "cells": [
  {
   "cell_type": "markdown",
   "metadata": {
    "collapsed": false
   },
   "source": [
    "# Lesson 11:  Sine Wave Functions\n",
    "**Introduction:**  In this lesson, you will study the techniques for sketching the graph of the sine function.  The graph of the sine function is a sine curve (wave).  You will learn about the one-cycle and period of the sine wave.  The sine curve is symmetric with respect to the origin and is considered an odd function.  \n",
    "\n",
    "**Objective:**  Sketch the graphs of sine functions, use amplitude and period to help sketch the sine functions, sketch transformations of the graph of a sine wave, and use the sine function to model real-life data.\n",
    "\n",
    "\n",
    "**Application:**  There are countless applications to the shape and movements of sine waves.  Some of these include:  changes in temperature over time, hours of daylight over time, ocean wave heights, sound waves, electrical currents, Ferris wheels and roller coasters, earthquakes, tsunamis and tidal waves, and wheels, trampolines and swings.  We will investigate a few of these with our application questions.\n"
   ]
  },
  {
   "cell_type": "code",
   "execution_count": 1,
   "metadata": {
    "collapsed": false
   },
   "outputs": [
    {
     "data": {
      "image/png": "[encoded data removed]",
      "text/plain": [
       "<matplotlib.figure.Figure at 0x105270210>"
      ]
     },
     "metadata": {},
     "output_type": "display_data"
    },
    {
     "data": {
      "text/plain": [
       "<function __main__.draw_plot>"
      ]
     },
     "execution_count": 1,
     "metadata": {},
     "output_type": "execute_result"
    }
   ],
   "source": [
    "%matplotlib inline\n",
    "\n",
    "# load necessary libraries\n",
    "import matplotlib.pyplot as plt\n",
    "import numpy as np\n",
    "from ipywidgets import *\n",
    "from collections import OrderedDict\n",
    "\n",
    "def f(x, a, h, k):\n",
    "    return a*np.sin(x-h) + k\n",
    "\n",
    "def draw_plot(a, h, k):\n",
    "    x_lim = 5\n",
    "    x = list(np.linspace(-x_lim, x_lim, 400))\n",
    "    y = list(map(lambda elem : f(elem, a, h, k), x))\n",
    "    plt.plot(x, y)\n",
    "    plt.grid(axis='y', color='r')\n",
    "    plt.grid(axis='x', color='g')\n",
    "    plt.xlim(-x_lim, x_lim)\n",
    "    plt.show()\n",
    "    \n",
    "interact(draw_plot, a=(1.), h=(-1.), k=(1.))"
   ]
  }
 ],
 "metadata": {
  "anaconda-cloud": {},
  "kernelspec": {
   "display_name": "Python (machine_learning)",
   "language": "python",
   "name": "machine_learning"
  },
  "language_info": {
   "codemirror_mode": {
    "name": "ipython",
    "version": 2
   },
   "file_extension": ".py",
   "mimetype": "text/x-python",
   "name": "python",
   "nbconvert_exporter": "python",
   "pygments_lexer": "ipython2",
   "version": "2.7.11"
  }
 },
 "nbformat": 4,
 "nbformat_minor": 0
}
