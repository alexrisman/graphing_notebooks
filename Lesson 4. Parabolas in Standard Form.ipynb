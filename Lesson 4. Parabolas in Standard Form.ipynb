{
 "cells": [
  {
   "cell_type": "markdown",
   "metadata": {
    "collapsed": false
   },
   "source": [
    "# Parabolas in Standard Form\n",
    "\n",
    "First, we need to define the parts of the parabola.\n",
    "![](https://s3.amazonaws.com/armath-notebook-resources/images/parabola_standard.png)\n",
    "\n",
    "Axis of symmetry -  the line about which it is symmetric. It is the line at which vertex and focus is located. Axis of symmetry is either X or Y axis or it is parallel to either X or Y axis.\n",
    "\n",
    "Focus - A fixed point lying at the axis of symmetry from which the distance of a point on parabolic curve is equal to the distance of same point from a fixed line.\n",
    "\n",
    "Directrix - a fixed line situated at the back of parabola. This line is perpendicular to the axis of symmetry. Directrix is located opposite to the vertex at exactly same distance between vertex and focus.\n",
    "\n",
    "Vertex - the point where parabola and its axis of symmetry intersect each other.  The vertex is located at point (h, k).\n",
    "\n",
    "Standard form of a parabola is:\n",
    "\n",
    "<center>*y = ax<sup>2</sup> + bx + c,*</center>\n",
    "\n",
    "where “a” determines which direction the parabola opens up.  If a > 0, the parabola opens upwards. If a < 0, it opens downwards."
   ]
  },
  {
   "cell_type": "code",
   "execution_count": 2,
   "metadata": {
    "collapsed": false
   },
   "outputs": [
    {
     "data": {
      "image/png": "[encoded data removed]",
      "text/plain": [
       "<matplotlib.figure.Figure at 0x1051a5a50>"
      ]
     },
     "metadata": {},
     "output_type": "display_data"
    },
    {
     "data": {
      "text/plain": [
       "<function __main__.draw_plot>"
      ]
     },
     "execution_count": 2,
     "metadata": {},
     "output_type": "execute_result"
    }
   ],
   "source": [
    "%matplotlib inline\n",
    "\n",
    "# load necessary libraries\n",
    "import matplotlib.pyplot as plt\n",
    "import numpy as np\n",
    "from ipywidgets import *\n",
    "from collections import OrderedDict\n",
    "\n",
    "def f(x, a, b, c):\n",
    "    return a*x**2+b*x+c \n",
    "\n",
    "def draw_plot(a, b, c):\n",
    "    x_lim = 5\n",
    "    x = np.linspace(-x_lim, x_lim, 400)\n",
    "    y = list(map(lambda elem : f(elem, a, b, c), x))\n",
    "    plt.plot(x, y)\n",
    "    h = -b/(2*a)\n",
    "    k = f(h, a, b, c)\n",
    "    plt.plot(h, k, 'ro', label='vertex')\n",
    "    plt.plot(h, k+1./(4*a), 'ko', label='focus')\n",
    "    plt.legend(numpoints=1)\n",
    "    plt.xlim(-x_lim, x_lim)\n",
    "    plt.show()\n",
    "    \n",
    "interact(draw_plot, a=(-.5, 1.5, .3), b=(-1.,1.), c=(-1.,1.))"
   ]
  }
 ],
 "metadata": {
  "anaconda-cloud": {},
  "kernelspec": {
   "display_name": "Python (machine_learning)",
   "language": "python",
   "name": "machine_learning"
  },
  "language_info": {
   "codemirror_mode": {
    "name": "ipython",
    "version": 2
   },
   "file_extension": ".py",
   "mimetype": "text/x-python",
   "name": "python",
   "nbconvert_exporter": "python",
   "pygments_lexer": "ipython2",
   "version": "2.7.11"
  }
 },
 "nbformat": 4,
 "nbformat_minor": 0
}
