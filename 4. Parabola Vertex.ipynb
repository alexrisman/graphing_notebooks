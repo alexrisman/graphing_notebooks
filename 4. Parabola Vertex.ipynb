{
 "cells": [
  {
   "cell_type": "code",
   "execution_count": null,
   "metadata": {
    "collapsed": false
   },
   "outputs": [],
   "source": [
    "%matplotlib inline\n",
    "\n",
    "# load necessary libraries\n",
    "import matplotlib.pyplot as plt\n",
    "import numpy as np\n",
    "from ipywidgets import *\n",
    "from collections import OrderedDict"
   ]
  },
  {
   "cell_type": "code",
   "execution_count": null,
   "metadata": {
    "collapsed": false
   },
   "outputs": [],
   "source": [
    "def f(x, a, h, k):\n",
    "    return a*(x-h)**2+k\n",
    "\n",
    "def draw_plot(a, h, k):\n",
    "    x_lim = 5\n",
    "    x = np.linspace(-x_lim, x_lim, 400)\n",
    "    y = list(map(lambda elem : f(elem, a, h, k), x))\n",
    "    plt.plot(x, y)\n",
    "    plt.plot(h, k, 'ro', label='vertex')\n",
    "    plt.plot(h, k+1./(4*a), 'ko', label='focus')\n",
    "    print(k+1./(4*a))\n",
    "    plt.legend(numpoints=1)\n",
    "    plt.xlim(-x_lim, x_lim)\n",
    "    plt.show()\n",
    "    \n",
    "interact(draw_plot, a=(-.5, 1.5, .3), h=(-1.,1.), k=(-1.,1.))"
   ]
  }
 ],
 "metadata": {
  "anaconda-cloud": {},
  "kernelspec": {
   "display_name": "Python (machine_learning)",
   "language": "python",
   "name": "machine_learning"
  },
  "language_info": {
   "codemirror_mode": {
    "name": "ipython",
    "version": 2
   },
   "file_extension": ".py",
   "mimetype": "text/x-python",
   "name": "python",
   "nbconvert_exporter": "python",
   "pygments_lexer": "ipython2",
   "version": "2.7.11"
  }
 },
 "nbformat": 4,
 "nbformat_minor": 0
}
