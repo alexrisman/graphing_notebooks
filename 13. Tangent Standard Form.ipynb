{
 "cells": [
  {
   "cell_type": "code",
   "execution_count": 3,
   "metadata": {
    "collapsed": false
   },
   "outputs": [],
   "source": [
    "%matplotlib inline\n",
    "\n",
    "# load necessary libraries\n",
    "import matplotlib.pyplot as plt\n",
    "import numpy as np\n",
    "from ipywidgets import *\n",
    "from collections import OrderedDict"
   ]
  },
  {
   "cell_type": "code",
   "execution_count": 4,
   "metadata": {
    "collapsed": false
   },
   "outputs": [
    {
     "data": {
      "image/png": "[encoded data removed]",
      "text/plain": [
       "<matplotlib.figure.Figure at 0x104eace10>"
      ]
     },
     "metadata": {},
     "output_type": "display_data"
    },
    {
     "data": {
      "text/plain": [
       "<function __main__.draw_plot>"
      ]
     },
     "execution_count": 4,
     "metadata": {},
     "output_type": "execute_result"
    }
   ],
   "source": [
    "def f(x, a, h, k):\n",
    "    return a*np.tan(x-h) + k\n",
    "\n",
    "def draw_plot(a, h, k):\n",
    "    x_lim = 5\n",
    "    x = list(np.linspace(-x_lim, x_lim, 400))\n",
    "    y = list(map(lambda elem : f(elem, a, h, k), x))\n",
    "    y_lim = max(max(y), min(y), key=abs)\n",
    "    for i in range(int(round(x_lim/np.pi))+1):\n",
    "        pos_asymptote = np.pi/2+h + i*np.pi\n",
    "        neg_asymptote = np.pi/2+h - i*np.pi\n",
    "        if pos_asymptote < x_lim:\n",
    "            plt.vlines(pos_asymptote, y_lim, -y_lim, linestyles='dashed')\n",
    "        if neg_asymptote > -x_lim:\n",
    "            plt.vlines(neg_asymptote, y_lim, -y_lim, linestyles='dashed')\n",
    "    plt.plot(x, y)\n",
    "    plt.xlim(-x_lim, x_lim)\n",
    "    plt.show()\n",
    "    \n",
    "interact(draw_plot, a=(1.), h=(-1.), k=(1.))"
   ]
  }
 ],
 "metadata": {
  "anaconda-cloud": {},
  "kernelspec": {
   "display_name": "Python (machine_learning)",
   "language": "python",
   "name": "machine_learning"
  },
  "language_info": {
   "codemirror_mode": {
    "name": "ipython",
    "version": 2
   },
   "file_extension": ".py",
   "mimetype": "text/x-python",
   "name": "python",
   "nbconvert_exporter": "python",
   "pygments_lexer": "ipython2",
   "version": "2.7.11"
  }
 },
 "nbformat": 4,
 "nbformat_minor": 0
}
