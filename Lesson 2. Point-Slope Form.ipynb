{
 "cells": [
  {
   "cell_type": "markdown",
   "metadata": {},
   "source": [
    "# Lesson 2:  Point-Slope Form\n",
    "**Introduction:** How long will it take you to save for a new cell phone?  Or for a new gaming system?  How can you predict snowfall in hopes of a snow day for school?  These and other situations can be mathematically calculated to help plan for the outcomes.\n",
    "\n",
    "**Objectives:** Students will be able to write an equation of a line in either slope-intercept form or standard form, and apply the point-slope form when given a point on the graph and its slope.\n",
    "\n",
    "## Point Slope Form\n",
    "\n",
    "Another type of equation is the point- slope form. It is useful because if you know one point on a certain line and the slope of that certain line, then you can define the line with this type of formula. Ultimately, you can get to the slope-intercept form with ease if one point and the slope are known.\n",
    "\n",
    "![](https://s3.amazonaws.com/armath-notebook-resources/images/point_slope_1.png)\n",
    "\n",
    "Let’s see how this works…\n",
    "![](https://s3.amazonaws.com/armath-notebook-resources/images/point_slope_2.png)\n",
    "1.  First, locate a point on the graph, (x1, y1).  **(0, 3)**\n",
    "\n",
    "2.  Substitute the x and y coordinate into the equation. \n",
    "\t**y – 3 = m(x – 0)**\n",
    "\n",
    "3.  Determine the slope:  **-3  (hint:  use rise over run)**\n",
    "\n",
    "4.  Plug -3 into the equation from #2:  **y – 3 = -3(x – 0)**\n",
    "\n",
    "5.  Simplify the equation by removing the parentheses and isolating the y-variable.  The goal is to use get an equation in slope-intercept form.  **y = -3x + 3**\n"
   ]
  },
  {
   "cell_type": "code",
   "execution_count": 3,
   "metadata": {
    "collapsed": false
   },
   "outputs": [
    {
     "data": {
      "image/png": "[encoded data removed]",
      "text/plain": [
       "<matplotlib.figure.Figure at 0x105283790>"
      ]
     },
     "metadata": {},
     "output_type": "display_data"
    },
    {
     "data": {
      "text/plain": [
       "<function __main__.draw_plot>"
      ]
     },
     "execution_count": 3,
     "metadata": {},
     "output_type": "execute_result"
    }
   ],
   "source": [
    "%matplotlib inline\n",
    "\n",
    "# load necessary libraries\n",
    "import matplotlib.pyplot as plt\n",
    "import numpy as np\n",
    "from ipywidgets import *\n",
    "from collections import OrderedDict\n",
    "\n",
    "def f(x, m, x1, y1):\n",
    "    return m*(x-x1)+y1\n",
    "\n",
    "def draw_plot(m, x1, y1):\n",
    "    x_lim = 5\n",
    "    x = list(np.linspace(-x_lim, x_lim, 400))\n",
    "    y = list(map(lambda elem : f(elem, m, x1, y1), x))\n",
    "    plt.plot(x, y)\n",
    "    plt.grid(axis='y', color='r')\n",
    "    plt.grid(axis='x', color='g')\n",
    "    plt.xlim(-x_lim, x_lim)\n",
    "    plt.show()\n",
    "    \n",
    "interact(draw_plot, m=(1.), x1=(1.), y1=(1.))"
   ]
  }
 ],
 "metadata": {
  "anaconda-cloud": {},
  "kernelspec": {
   "display_name": "Python (machine_learning)",
   "language": "python",
   "name": "machine_learning"
  },
  "language_info": {
   "codemirror_mode": {
    "name": "ipython",
    "version": 2
   },
   "file_extension": ".py",
   "mimetype": "text/x-python",
   "name": "python",
   "nbconvert_exporter": "python",
   "pygments_lexer": "ipython2",
   "version": "2.7.11"
  }
 },
 "nbformat": 4,
 "nbformat_minor": 0
}
