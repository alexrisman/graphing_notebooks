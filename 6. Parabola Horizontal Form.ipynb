{
 "cells": [
  {
   "cell_type": "code",
   "execution_count": 2,
   "metadata": {
    "collapsed": false
   },
   "outputs": [
    {
     "name": "stderr",
     "output_type": "stream",
     "text": [
      "/Users/mthmn20/anaconda/envs/machine_learning/lib/python2.7/site-packages/IPython/html.py:14: ShimWarning: The `IPython.html` package has been deprecated. You should import from `notebook` instead. `IPython.html.widgets` has moved to `ipywidgets`.\n",
      "  \"`IPython.html.widgets` has moved to `ipywidgets`.\", ShimWarning)\n"
     ]
    }
   ],
   "source": [
    "%matplotlib inline\n",
    "\n",
    "# load necessary libraries\n",
    "import matplotlib.pyplot as plt\n",
    "import numpy as np\n",
    "from IPython.html.widgets import *\n",
    "from collections import OrderedDict"
   ]
  },
  {
   "cell_type": "code",
   "execution_count": 3,
   "metadata": {
    "collapsed": false
   },
   "outputs": [
    {
     "data": {
      "image/png": "[encoded data removed]",
      "text/plain": [
       "<matplotlib.figure.Figure at 0x1052ca610>"
      ]
     },
     "metadata": {},
     "output_type": "display_data"
    },
    {
     "data": {
      "text/plain": [
       "<function __main__.draw_plot>"
      ]
     },
     "execution_count": 3,
     "metadata": {},
     "output_type": "execute_result"
    }
   ],
   "source": [
    "def f(y, a, h, k):\n",
    "    return a*(y-h)**2+k\n",
    "\n",
    "def draw_plot(a, h, k):\n",
    "    y_lim = 5\n",
    "    y = np.linspace(-y_lim, y_lim, 400)\n",
    "    x = list(map(lambda elem : f(elem, a, h, k), y))\n",
    "    plt.plot(k, h, 'ro', label='vertex')\n",
    "    plt.plot(k+1./(4*a), h, 'ko', label='focus')\n",
    "    plt.legend(numpoints=1)    \n",
    "    plt.plot(x, y)\n",
    "    plt.ylim(-y_lim, y_lim)\n",
    "    plt.show()\n",
    "    \n",
    "interact(draw_plot, a=(-.5, 1.5, .3), h=(-1.,1.), k=(-1.,1.))"
   ]
  }
 ],
 "metadata": {
  "anaconda-cloud": {},
  "kernelspec": {
   "display_name": "Python (machine_learning)",
   "language": "python",
   "name": "machine_learning"
  },
  "language_info": {
   "codemirror_mode": {
    "name": "ipython",
    "version": 2
   },
   "file_extension": ".py",
   "mimetype": "text/x-python",
   "name": "python",
   "nbconvert_exporter": "python",
   "pygments_lexer": "ipython2",
   "version": "2.7.11"
  }
 },
 "nbformat": 4,
 "nbformat_minor": 0
}
