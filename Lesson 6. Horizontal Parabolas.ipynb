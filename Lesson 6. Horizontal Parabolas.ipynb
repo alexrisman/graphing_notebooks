{
 "cells": [
  {
   "cell_type": "markdown",
   "metadata": {
    "collapsed": false
   },
   "source": [
    "# Lesson 6: Horizontal Parabolas\n",
    "\n",
    "<center>*x = a(y – k)<sup>2</sup> + h*</center>\n",
    "<center>where “a” determines which direction the parabola opens.  A negative “a” opens to the left, and a positive “a” opens to the right.</center>"
   ]
  },
  {
   "cell_type": "code",
   "execution_count": 3,
   "metadata": {
    "collapsed": false
   },
   "outputs": [
    {
     "data": {
      "image/png": "[encoded data removed]",
      "text/plain": [
       "<matplotlib.figure.Figure at 0x10533d450>"
      ]
     },
     "metadata": {},
     "output_type": "display_data"
    },
    {
     "data": {
      "text/plain": [
       "<function __main__.draw_plot>"
      ]
     },
     "execution_count": 3,
     "metadata": {},
     "output_type": "execute_result"
    }
   ],
   "source": [
    "%matplotlib inline\n",
    "\n",
    "# load necessary libraries\n",
    "import matplotlib.pyplot as plt\n",
    "import numpy as np\n",
    "from ipywidgets import *\n",
    "from collections import OrderedDict\n",
    "\n",
    "def f(y, a, h, k):\n",
    "    return a*(y-h)**2+k\n",
    "\n",
    "def draw_plot(a, h, k):\n",
    "    y_lim = 5\n",
    "    y = np.linspace(-y_lim, y_lim, 400)\n",
    "    x = list(map(lambda elem : f(elem, a, h, k), y))\n",
    "    plt.plot(k, h, 'ro', label='vertex')\n",
    "    plt.plot(k+1./(4*a), h, 'ko', label='focus')\n",
    "    plt.legend(numpoints=1)    \n",
    "    plt.plot(x, y)\n",
    "    plt.grid(axis='y', color='r')\n",
    "    plt.grid(axis='x', color='g')\n",
    "    plt.ylim(-y_lim, y_lim)\n",
    "    plt.show()\n",
    "    \n",
    "interact(draw_plot, a=(-.5, 1.5, .3), h=(-1.,1.), k=(-1.,1.))"
   ]
  }
 ],
 "metadata": {
  "anaconda-cloud": {},
  "kernelspec": {
   "display_name": "Python (machine_learning)",
   "language": "python",
   "name": "machine_learning"
  },
  "language_info": {
   "codemirror_mode": {
    "name": "ipython",
    "version": 2
   },
   "file_extension": ".py",
   "mimetype": "text/x-python",
   "name": "python",
   "nbconvert_exporter": "python",
   "pygments_lexer": "ipython2",
   "version": "2.7.11"
  }
 },
 "nbformat": 4,
 "nbformat_minor": 0
}
