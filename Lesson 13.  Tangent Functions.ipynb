{
 "cells": [
  {
   "cell_type": "markdown",
   "metadata": {
    "collapsed": false
   },
   "source": [
    "# Lesson 13:  Tangent Functions\n",
    "\n",
    "**Introduction:**  The tangent function is an odd function, but the graph is symmetric with the origin.  Remember that the tangent identity of tan x = sin x/cos x.  The graph of a tangent function increases without bound as x approaches $\\pi$/2 from left to right, and decreases without bound as x approaches -$\\pi$/2.  \n",
    "\n",
    "\n",
    "**Objective:**  Sketch graphs of tangent functions and determine the key points of a tangent graph.  Apply the tangent function to real-life problems.\n",
    "\n",
    "\n",
    "**Application:**  Tangent graphs can be used in field of electronics.  They can be used to illustrate and explain the capabilities of battery eliminator circuits or BEC’s.\n"
   ]
  },
  {
   "cell_type": "code",
   "execution_count": 1,
   "metadata": {
    "collapsed": false
   },
   "outputs": [
    {
     "data": {
      "image/png": "[encoded data removed]",
      "text/plain": [
       "<matplotlib.figure.Figure at 0x105aae9d0>"
      ]
     },
     "metadata": {},
     "output_type": "display_data"
    },
    {
     "data": {
      "text/plain": [
       "<function __main__.draw_plot>"
      ]
     },
     "execution_count": 1,
     "metadata": {},
     "output_type": "execute_result"
    }
   ],
   "source": [
    "%matplotlib inline\n",
    "\n",
    "# load necessary libraries\n",
    "import matplotlib.pyplot as plt\n",
    "import numpy as np\n",
    "from ipywidgets import *\n",
    "from collections import OrderedDict\n",
    "\n",
    "def f(x, a, h, k):\n",
    "    return a*np.tan(x-h) + k\n",
    "\n",
    "def draw_plot(a, h, k):\n",
    "    x_lim = 5\n",
    "    x = list(np.linspace(-x_lim, x_lim, 400))\n",
    "    y = list(map(lambda elem : f(elem, a, h, k), x))\n",
    "    y_lim = max(max(y), min(y), key=abs)\n",
    "    for i in range(int(round(x_lim/np.pi))+1):\n",
    "        pos_asymptote = np.pi/2+h + i*np.pi\n",
    "        neg_asymptote = np.pi/2+h - i*np.pi\n",
    "        if pos_asymptote < x_lim:\n",
    "            plt.vlines(pos_asymptote, y_lim, -y_lim, linestyles='dashed')\n",
    "        if neg_asymptote > -x_lim:\n",
    "            plt.vlines(neg_asymptote, y_lim, -y_lim, linestyles='dashed')\n",
    "    plt.plot(x, y)\n",
    "    plt.grid(axis='y', color='r')\n",
    "    plt.grid(axis='x', color='g')\n",
    "    plt.xlim(-x_lim, x_lim)\n",
    "    plt.show()\n",
    "    \n",
    "interact(draw_plot, a=(1.), h=(-1.), k=(1.))"
   ]
  }
 ],
 "metadata": {
  "anaconda-cloud": {},
  "kernelspec": {
   "display_name": "Python (machine_learning)",
   "language": "python",
   "name": "machine_learning"
  },
  "language_info": {
   "codemirror_mode": {
    "name": "ipython",
    "version": 2
   },
   "file_extension": ".py",
   "mimetype": "text/x-python",
   "name": "python",
   "nbconvert_exporter": "python",
   "pygments_lexer": "ipython2",
   "version": "2.7.11"
  }
 },
 "nbformat": 4,
 "nbformat_minor": 0
}
