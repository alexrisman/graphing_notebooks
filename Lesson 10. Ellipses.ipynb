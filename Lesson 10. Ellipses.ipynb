{
 "cells": [
  {
   "cell_type": "markdown",
   "metadata": {
    "collapsed": false
   },
   "source": [
    "# Lesson 10. Ellipses\n",
    "**Introduction:** An ellipse is defined by two points, each called a focus. (F1, F2 above). If you take any point on the ellipse, the sum of the distances to the focus points is constant. In the figure above, drag the point on the ellipse around and see that while the distances to the focus points vary, their sum is constant. The size of the ellipse is determined by the sum of these two distances. The position of the foci determine how 'squashed' the ellipse is.\n",
    "\n",
    "**Objective:**  we will define what an ellipse is, write the equation of an ellipse, identify important characteristics, and graph the ellipse.\n",
    "\n",
    "**Application:**  An elliptical training machine simulates the motion of running or walking, offering a low-impact cardio workout. When you walk or run in an elliptical trainer, your foot describes an elliptical path. In rooms where the ceilings are elliptical, a sound made at one focus can be heard very clearly at the other focus.  These are called whispering galleries.  All the planets orbiting the sun are satellites. These planets do not travel in a circular motion as many people believe they do, but they travel in elliptical orbits. "
   ]
  },
  {
   "cell_type": "code",
   "execution_count": 3,
   "metadata": {
    "collapsed": false
   },
   "outputs": [
    {
     "data": {
      "image/png": "[encoded data removed]",
      "text/plain": [
       "<matplotlib.figure.Figure at 0x103af10d0>"
      ]
     },
     "metadata": {},
     "output_type": "display_data"
    }
   ],
   "source": [
    "%matplotlib inline\n",
    "\n",
    "# load necessary libraries\n",
    "import matplotlib.pyplot as plt\n",
    "import numpy as np\n",
    "from ipywidgets import *\n",
    "from collections import OrderedDict\n",
    "\n",
    "def draw_plot(a, b, h, k):\n",
    "    axis_lim = 5\n",
    "    x = np.linspace(-axis_lim, axis_lim, 400)\n",
    "    y = np.linspace(-axis_lim, axis_lim, 400)\n",
    "    x, y = np.meshgrid(x, y)\n",
    "    plt.contour(x, y,((y-k)**2/b**2 +(x-h)**2/a**2), [1])\n",
    "    plt.plot(h, k, 'go', label='center')\n",
    "    if a > b:\n",
    "        c = (a**2-b**2)**.5\n",
    "        plt.plot(h+c, k, 'ko', label='focus')\n",
    "        plt.plot(h-c, k, 'ko', label='focus')\n",
    "    else:\n",
    "        c = (b**2-a**2)**.5\n",
    "        plt.plot(h, k+c, 'ko', label='focus')\n",
    "        plt.plot(h, k-c, 'ko', label='focus')\n",
    "    plt.grid(axis='y', color='r')\n",
    "    plt.grid(axis='x', color='g')\n",
    "    plt.axis('equal')\n",
    "    plt.xlim(-axis_lim, axis_lim)\n",
    "    plt.ylim(-axis_lim, axis_lim)\n",
    "    plt.show()\n",
    "    \n",
    "interact(draw_plot, a=(.1, 1.5, .3), b=(.1, 2.5, .3), h=(-2.,2.), k=(-2.,2.))"
   ]
  }
 ],
 "metadata": {
  "anaconda-cloud": {},
  "kernelspec": {
   "display_name": "Python (machine_learning)",
   "language": "python",
   "name": "machine_learning"
  },
  "language_info": {
   "codemirror_mode": {
    "name": "ipython",
    "version": 2
   },
   "file_extension": ".py",
   "mimetype": "text/x-python",
   "name": "python",
   "nbconvert_exporter": "python",
   "pygments_lexer": "ipython2",
   "version": "2.7.11"
  }
 },
 "nbformat": 4,
 "nbformat_minor": 0
}
